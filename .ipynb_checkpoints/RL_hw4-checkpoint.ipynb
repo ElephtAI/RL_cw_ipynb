{
 "cells": [
  {
   "cell_type": "markdown",
   "metadata": {
    "colab_type": "text",
    "id": "pYs6LMEbNqoQ"
   },
   "source": [
    "# RL homework 4\n",
    "\n",
    "------------------------------------\n",
    "\n",
    "## How to Submit\n",
    "\n",
    "When you have completed the exercises and everything has finsihed running, click on 'File' in the menu-bar and then 'Download .ipynb'. This file must be submitted to Moodle named as **studentnumber_RL_hw4.ipynb** before the deadline above.\n",
    "\n",
    "Also send a **sharable link** to the notebook at the following email: ucl.coursework.submit@gmail.com. You can also make it sharable via link to everyone, up to you.\n",
    "\n",
    "Please compile all results and all answers to the understanding questions into a PDF. Name convention: **studentnumber_RL_hw4.pdf**. Do not include any of the code (we will use the notebook for that). \n",
    "\n",
    "**Page limit: 10 pg **\n"
   ]
  },
  {
   "cell_type": "markdown",
   "metadata": {
    "colab_type": "text",
    "id": "9v_SYckYfv5G"
   },
   "source": [
    "## Context\n",
    "\n",
    "In this assignment, we will take a first look at learning decisions from data.  For this, we will use the multi-armed bandit framework.\n",
    "\n",
    "## Background reading\n",
    "\n",
    "* Sutton and Barto (2018), Chapters 6-7 + 9-11"
   ]
  },
  {
   "cell_type": "markdown",
   "metadata": {
    "colab_type": "text",
    "id": "ztQEQvnKh2t6"
   },
   "source": [
    "# Setup"
   ]
  },
  {
   "cell_type": "markdown",
   "metadata": {
    "colab_type": "text",
    "id": "qB0tQ4aiAaIu"
   },
   "source": [
    "### Import Useful Libraries"
   ]
  },
  {
   "cell_type": "code",
   "execution_count": 0,
   "metadata": {
    "colab": {
     "autoexec": {
      "startup": false,
      "wait_interval": 0
     }
    },
    "colab_type": "code",
    "id": "YzYtxi8Wh5SJ"
   },
   "outputs": [],
   "source": [
    "import matplotlib.pyplot as plt\n",
    "import numpy as np\n",
    "import tensorflow as tf\n",
    "from collections import namedtuple"
   ]
  },
  {
   "cell_type": "markdown",
   "metadata": {
    "colab_type": "text",
    "id": "6NDhSYfSDcCC"
   },
   "source": [
    "### Set options"
   ]
  },
  {
   "cell_type": "code",
   "execution_count": 0,
   "metadata": {
    "colab": {
     "autoexec": {
      "startup": false,
      "wait_interval": 0
     }
    },
    "colab_type": "code",
    "id": "Ps5OnkPmDbMX"
   },
   "outputs": [],
   "source": [
    "np.set_printoptions(precision=3, suppress=1)"
   ]
  },
  {
   "cell_type": "markdown",
   "metadata": {
    "colab_type": "text",
    "id": "cOu9RZY3AkF1"
   },
   "source": [
    "### Helper functions"
   ]
  },
  {
   "cell_type": "code",
   "execution_count": 0,
   "metadata": {
    "colab": {
     "autoexec": {
      "startup": false,
      "wait_interval": 0
     }
    },
    "colab_type": "code",
    "id": "6EttQGJ1n5Zn"
   },
   "outputs": [],
   "source": [
    "def run_experiment(env, agent, number_of_steps):\n",
    "    mean_reward = 0.\n",
    "    try:\n",
    "      action = agent.initial_action()\n",
    "    except AttributeError:\n",
    "      action = 0\n",
    "    for i in range(number_of_steps):\n",
    "      reward, discount, next_state = grid.step(action)\n",
    "      action = agent.step(reward, discount, next_state)\n",
    "      mean_reward += (reward - mean_reward)/(i + 1.)\n",
    "\n",
    "    return mean_reward\n",
    "\n",
    "map_from_action_to_subplot = lambda a: (2, 6, 8, 4)[a]\n",
    "map_from_action_to_name = lambda a: (\"up\", \"right\", \"down\", \"left\")[a]\n",
    "\n",
    "def plot_values(values, colormap='pink', vmin=None, vmax=None):\n",
    "  plt.imshow(values, interpolation=\"nearest\", cmap=colormap, vmin=vmin, vmax=vmax)\n",
    "  plt.yticks([])\n",
    "  plt.xticks([])\n",
    "  plt.colorbar(ticks=[vmin, vmax])\n",
    "#   plt.colorbar()\n",
    "\n",
    "def plot_action_values(action_values, vmin=None, vmax=None):\n",
    "  q = action_values\n",
    "  fig = plt.figure(figsize=(8, 8))\n",
    "  fig.subplots_adjust(wspace=0.3, hspace=0.3)\n",
    "  for a in [0, 1, 2, 3]:\n",
    "    plt.subplot(3, 3, map_from_action_to_subplot(a))\n",
    "    plot_values(q[..., a], vmin=vmin, vmax=vmax)\n",
    "    action_name = map_from_action_to_name(a)\n",
    "    plt.title(r\"$q(s, \\mathrm{\" + action_name + r\"})$\")\n",
    "    \n",
    "  plt.subplot(3, 3, 5)\n",
    "  v = 0.9 * np.max(q, axis=-1) + 0.1 * np.mean(q, axis=-1)\n",
    "  plot_values(v, colormap='summer', vmin=vmin, vmax=vmax)\n",
    "  plt.title(\"$v(s)$\")\n",
    "\n",
    "\n",
    "def plot_rewards(xs, rewards, color):\n",
    "  mean = np.mean(rewards, axis=0)\n",
    "  p90 = np.percentile(rewards, 90, axis=0)\n",
    "  p10 = np.percentile(rewards, 10, axis=0)\n",
    "  plt.plot(xs, mean, color=color, alpha=0.6)\n",
    "  plt.fill_between(xs, p90, p10, color=color, alpha=0.3)\n",
    "  \n",
    "\n",
    "def parameter_study(parameter_values, parameter_name,\n",
    "  agent_constructor, env_constructor, color, repetitions=10, number_of_steps=int(1e4)):\n",
    "  mean_rewards = np.zeros((repetitions, len(parameter_values)))\n",
    "  greedy_rewards = np.zeros((repetitions, len(parameter_values)))\n",
    "  for rep in range(repetitions):\n",
    "    for i, p in enumerate(parameter_values):\n",
    "      env = env_constructor()\n",
    "      agent = agent_constructor()\n",
    "      if 'eps' in parameter_name:\n",
    "        agent.set_epsilon(p)\n",
    "      elif 'alpha' in parameter_name:\n",
    "        agent._step_size = p\n",
    "      else:\n",
    "        raise NameError(\"Unknown parameter_name: {}\".format(parameter_name))\n",
    "      mean_rewards[rep, i] = run_experiment(grid, agent, number_of_steps)\n",
    "      agent.set_epsilon(0.)\n",
    "      agent._step_size = 0.\n",
    "      greedy_rewards[rep, i] = run_experiment(grid, agent, number_of_steps//10)\n",
    "      del env\n",
    "      del agent\n",
    "\n",
    "  plt.subplot(1, 2, 1)\n",
    "  plot_rewards(parameter_values, mean_rewards, color)\n",
    "  plt.yticks=([0, 1], [0, 1])\n",
    "  # plt.ylim((0, 1.5))\n",
    "  plt.ylabel(\"Average reward over first {} steps\".format(number_of_steps), size=12)\n",
    "  plt.xlabel(parameter_name, size=12)\n",
    "\n",
    "  plt.subplot(1, 2, 2)\n",
    "  plot_rewards(parameter_values, greedy_rewards, color)\n",
    "  plt.yticks=([0, 1], [0, 1])\n",
    "  # plt.ylim((0, 1.5))\n",
    "  plt.ylabel(\"Final rewards, with greedy policy\".format(number_of_steps), size=12)\n",
    "  plt.xlabel(parameter_name, size=12)\n",
    "  \n",
    "def epsilon_greedy(q_values, epsilon):\n",
    "  if epsilon < np.random.random():\n",
    "    return np.argmax(q_values)\n",
    "  else:\n",
    "    return np.random.randint(np.array(q_values).shape[-1])"
   ]
  },
  {
   "cell_type": "markdown",
   "metadata": {
    "colab_type": "text",
    "id": "zTJ3WYL8Y0GQ"
   },
   "source": [
    "### A small MRP"
   ]
  },
  {
   "cell_type": "code",
   "execution_count": 0,
   "metadata": {
    "colab": {
     "autoexec": {
      "startup": false,
      "wait_interval": 0
     }
    },
    "colab_type": "code",
    "id": "iPnQLBHsYzdq"
   },
   "outputs": [],
   "source": [
    "class SmallMRP(object):\n",
    "\n",
    "  def __init__(self, p=0.1):\n",
    "    self._state = 0\n",
    "    self._p = p\n",
    "\n",
    "  def get_state(self):\n",
    "    return self._state\n",
    "\n",
    "  def step(self):\n",
    "    reward = 0\n",
    "    discount = 1\n",
    "    if self._state == 0:\n",
    "      self._state = 1\n",
    "    else:\n",
    "      if np.random.random() < self._p:\n",
    "        self._state = 0\n",
    "        discount = 0\n",
    "      else:\n",
    "        self._state = 1\n",
    "\n",
    "    return reward, discount, self.get_obs()"
   ]
  },
  {
   "cell_type": "markdown",
   "metadata": {
    "colab_type": "text",
    "id": "HdojBKQ2CK9e"
   },
   "source": [
    "## Assignment 1 [50pts in total]\n",
    "\n",
    "We are going to analyze the simple Markov reward process (MRP - a MRP is an MDP without actions or, equivalently, with a single action in each state) defined in the code cell above.  It consists of two states.  The reward is zero everywhere.  When we are in state $s_0$, we always transition to $s_1$.  If we are in state $s_1$, there is a probability $p$ (which is set to 0.1 by default in the code above) of terminating, after which the next episode starts in $s_0$ again.  With a probability of $1 - p$, we transition from $s_1$ back to itself again.  The discount is $\\gamma = 1$ on non-terminal steps.\n",
    "\n",
    "#### [1pt] Question 1.1\n",
    "What is the optimal value in each state?\n",
    "\n",
    "As there are no reward, the optimla value is 0 for each of the two states.\n",
    "\n",
    "#### [1pt] Question 1.2\n",
    "Instead of a tabular representation, consider a single feature $\\phi$, which takes the values $\\phi(s_0) = 1$ and $\\phi(s_1) = 4$.  Now consider using linear function approximation, where we learn a value $\\theta$ such that $v_{\\theta}(s) = \\theta \\times \\phi(s) \\approx v(s)$, where $v(s)$ is the true value of state $s$.  What is the optimal value of $\\theta$?\n",
    "\n",
    "The optimal value of $\\theta$ is 0 since there is no reward in the MRP. \n",
    "\n",
    "#### [8pts] Question 1.3\n",
    "Suppose $\\theta_0 = 1$, and suppose we update this parameter with TD(0) with a step size of $\\alpha = 0.1$.  What is the expected value of $\\mathbb{E}[ \\theta_T ]$ if we step through the MDP until it terminates after the first episode, as a function of $p$?  (Note that $T$ is random.)\n",
    "\n",
    "The TD(0) update for the parameter using gradient descent:\n",
    "\n",
    "$\\theta_{t+1} = \\theta_{t}+\\alpha(R+\\gamma v_{\\theta_{t}}(s')-v_{\\theta_{t}}(s))\\nabla v_{\\theta_{t}}(s)$ with $R=0$\n",
    "\n",
    "$\\theta_{t+1} = \\theta_{t}+\\alpha(\\gamma\\theta_{t}\\phi(s') -\\theta_{t}\\phi(s) )\\phi(s) = \\theta_{t}(1+\\alpha(\\gamma\\phi(s')-\\phi(s))\\phi(s))$\n",
    "\n",
    "For $s_{0}\\rightarrow s_{1}$ and $s_{1}\\rightarrow s_{1}$: $\\gamma = 1$; for $s_{1}\\rightarrow s_{0}$, $\\gamma=0$ as there is no need to boostrap for the terminate state. \n",
    "\n",
    "At the start of the episode, we have transition $s_{0}\\rightarrow s_{1}$ with $prob=1$ and at the end of the episode with transition $s_{1}\\rightarrow s_{0}$ with $prob=p$. The other transitions are T-2 numbers of $s_{1}\\rightarrow s_{1}$ with $prob=1-p$\n",
    "\n",
    "Therefore with $\\theta_{0}=1$, $\\alpha = 0.1$, $\\phi(s_{0})=1$ and $\\phi(s_{1})=4$, the expectation could be written as:\n",
    "\n",
    "$\\mathbb{E}[ \\theta_T ] = \\sum_{T=2}^{\\infty}\\theta_{0}(1+\\alpha(\\phi(s_{1})-\\phi(s_{0}))\\phi(s_{0}))(1+\\alpha(\\phi(s_{1})-\\phi(s_{1}))\\phi(s_{1}))^{T-2}(1+\\alpha(-\\phi(s_{1}))\\phi(s_{1}))(1-p)^{T-2}p$\n",
    "\n",
    "\n",
    "$=1.3\\times (-0.6)p\\sum_{T=2}^{\\infty}(1-p)^{T-2}$\n",
    "\n",
    "$=-0.78p\\times \\frac{1}{1-(1-p)} = -0.78p^{0} = -0.78$\n",
    "\n",
    "\n",
    "\n",
    "#### [5pts] Question 1.3\n",
    "If $p=0.1$, how many episodes does it take, starting from $\\theta_0 = 1$, until $| v(s) - \\mathbb{E}[v_{\\theta}(s)] | < 0.5$ for all $s$, where the expectation is over the expected updates to $\\theta$?\n",
    "\n",
    "For $p=0.1$, suppose we need $n$ episodes\n",
    "\n",
    "Since $\\mathbb{E}[v_{\\theta}(s)] = \\mathbb{E}[\\phi(s)\\theta_{T}] = \\phi(s)\\mathbb{E}[\\theta_{T}]$: \n",
    "\n",
    "For $s_{0}$ we have $| v(s_{0}) - \\mathbb{E}[v_{\\theta}(s_{0})] | = | \\phi(s_{0})\\mathbb{E}[\\theta_{T}] | = | \\mathbb{E}[\\theta_{T}] | < 0.5$\n",
    "\n",
    "For $s_{1}$ we have $| v(s_{1}) - \\mathbb{E}[v_{\\theta}(s_{1})] | = | \\phi(s_{1})\\mathbb{E}[\\theta_{T}] | = 4| \\mathbb{E}[\\theta_{T}] | < 0.5 \\rightarrow | \\mathbb{E}[\\theta_{T}] | < 0.125$\n",
    "\n",
    "In this case of n episodes\n",
    "$\\mathbb{E}[ \\theta_T ] = \\sum_{T=2n}^{\\infty}\\theta_{0}(1+\\alpha(\\phi(s_{1})-\\phi(s_{0}))\\phi(s_{0}))^{n}(1+\\alpha(\\phi(s_{1})-\\phi(s_{1}))\\phi(s_{1}))^{T-2n}(1+\\alpha(-\\phi(s_{1}))\\phi(s_{1}))^{n}(1-p)^{T-2}p^{n}$\n",
    "\n",
    "$=1.3^{n}\\times(-0.6)^{n}\\times(0.1)^{n}\\times \\sum_{T=2n}^{\\infty}(1-0.1)^{T-2n}$\n",
    "\n",
    "$=(-0.078)^{n}\\times 10 < 0.125$ \n",
    "\n",
    "Hence it takes $n=2$ episodes. \n",
    "\n",
    "#### Synchronous updates\n",
    "Consider the following algorithm: we use TD to update the parameters, but instead of using the online data, we assume we can actively sample a transition from both states.  We then update $\\theta$ using both samples:\n",
    "$$\n",
    "\\theta_{n+1} = \\theta_n + \\alpha \\delta_0 \\phi(s_0) + \\alpha \\delta_1 \\phi(s_1) \\,,\n",
    "$$\n",
    "where $\\delta_i$ is a sampled one-step TD error when transitioning from state $s_i$.\n",
    "\n",
    "#### [10pts] Question 1.4\n",
    "\n",
    "What is the value of $\\mathbb{E}[\\theta_n]$, as a function of $n$ and $p$?\n",
    "\n",
    "We have $\\delta_0 = \\theta_{n}\\phi(s_{1})-\\theta_{n}\\phi(s_{0}) = \\theta_{n}(\\phi(s_{1})-\\phi(s_{0}))$\n",
    "\n",
    "For transition $s_{1}$ to $s_{0}$ (with $prob = p$): \n",
    "\n",
    "$\\delta_1  = -\\theta_{n}\\phi(s_{1}) $\n",
    "\n",
    "$\\theta_{n+1}=\\theta_{n}+\\alpha\\theta_{n}(\\phi(s_{1})-\\phi(s_{0}))\\phi(s_{0})+\\alpha\\theta_{n}(-\\phi(s_{1})\\phi(s_{1}))$\n",
    "\n",
    "$ = \\theta_{n}(1+\\alpha(\\phi(s_{1})\\phi(s_{0})-\\phi(s_{0})\\phi(s_{0})-\\phi(s_{1})\\phi(s_{1}))) = \\theta_{n}\\Delta_{10}$\n",
    "\n",
    "For transition $s_{1}$ to $s_{1}$ (with $prob = 1-p$): \n",
    "\n",
    "$\\delta_1  = 0 $\n",
    "\n",
    "$\\theta_{n+1}=\\theta_{n}+\\alpha\\theta_{n}(\\phi(s_{1})-\\phi(s_{0}))\\phi(s_{0})$\n",
    "\n",
    "$=\\theta_{n}(1+\\alpha(\\phi(s_{1})\\phi(s_{0})-\\phi(s_{0})\\phi(s_{0})))=\\theta_{n}\\Delta_{11}$\n",
    "\n",
    "Therefore the expectation will be:\n",
    "\n",
    "$\\mathbb{E}[\\theta_{T}] = \\sum_{k=1}^{n}\\theta_{0}(\\Delta_{10})^{k}p^{k}(\\Delta_{11})^{n-k}(1-p)^{n-k}$\n",
    "\n",
    "Therefore with $\\theta_{0}=1$, $\\alpha = 0.1$, $\\phi(s_{0})=1$ and $\\phi(s_{1})=4$, the expectation could be written as:\n",
    "\n",
    "$\\mathbb{E}[\\theta_{T}] = \\sum_{k=1}^{n}(-0.3)^{k}p^{k}(1.3)^{n-k}(1-p)^{n-k}$\n",
    "\n",
    "$ = (1.3(1-p))^{n}\\sum_{k=1}^{n}(\\frac{-0.3p}{1.3(1-p)})^{k} = (1.3(1-p))^{n}\\frac{w(1-w^{n-1})}{1-w}$, where $w = \\frac{-0.3p}{1.3(1-p)}$\n",
    "\n",
    "$ = (-0.3p(1.3(1-p))^{n-1}-(-0.3p)^{n})/(1+\\frac{0.3p}{1.3(1-p)})$\n",
    "\n",
    "#### [5pts] Question 1.5\n",
    "\n",
    "For which values of $p$ does not $\\theta$ converge to the optimal solution?\n",
    "\n",
    "On basis of the expression from last question: \n",
    "\n",
    "if $1.3(1-p)>1 \\rightarrow p<\\frac{3}{13}$ then $(1.3(1-p))^{n-1}\\rightarrow \\infty$ as $n \\rightarrow \\infty$\n",
    "\n",
    "And thus $\\theta$ will not converge to the optimal solution\n",
    "\n",
    "#### [10pts] Question 1.5\n",
    "Why doesn't it?  TD is known to converge, with linear function approximation, under certain assumptions.  Explain for this concrete case why the algorithm does not converge, and explain which general assumption is violated that would otherwise ensure convergence of linear TD (in at most 200 words).\n",
    "\n",
    "Refer to Q1.4, we have got the update funciton for $\\theta$:\n",
    "\n",
    "let $\\phi_0 = \\phi(s_{0})$, $\\phi_1 = \\phi(s_{1})$\n",
    "\n",
    "With $prob=p$:\n",
    "\n",
    "$\\theta_{n+1} = \\theta_{n}+\\alpha\\theta_{n}(\\phi_1\\phi_0-\\phi_0\\phi_0-\\phi_1\\phi_1) = (1-\\alpha A)\\theta_{n}$\n",
    "\n",
    "where $A = \\phi_0\\phi_0+\\phi_1\\phi_1-\\phi_1\\phi_0$\n",
    "\n",
    "with $prob=1-p$:\n",
    "\n",
    "$\\theta_{n+1} = \\theta_{n}+\\alpha\\theta_{n}(\\phi_1\\phi_0-\\phi_0\\phi_0) = (1-\\alpha A)\\theta_{n}$\n",
    "\n",
    "Where $A = \\phi_0\\phi_0-\\phi_1\\phi_0$\n",
    "\n",
    "The expectation of the update will be: \n",
    "\n",
    "$\\mathbb{E}[\\theta_{n+1} | \\theta_{n}] = (1-\\alpha\\mathbb{E}[A])\\theta_{n}$ \n",
    "\n",
    "And $\\mathbb{E}[A] = p(\\phi_0\\phi_0+\\phi_1\\phi_1-\\phi_1\\phi_0)+(1-p)(\\phi_0\\phi_0-\\phi_1\\phi_0) = \\phi_0\\phi_0+p\\phi_1\\phi_1-\\phi_1\\phi_0$\n",
    "\n",
    "which could be written as $\\mathbb{E}[A] = \\mu^{T}P \\mu$ \n",
    "\n",
    "where $\\mu = \\begin{pmatrix}\\phi_0\\\\\\phi_1\\end{pmatrix}$ and $P = \\begin{pmatrix} 1 & b \\\\c & p \\end{pmatrix}$ with $b+c=-1$ \n",
    "\n",
    "$P$ might not be positive definite with specific value of $p$ and hence $\\mathbb{E}[A]$ might not be positive definite.\n",
    "\n",
    "(In our case of $\\phi_0=1$ and $\\phi_1=4$, $\\mathbb{E}[A] = 16p-3$. It cannot be guaranteed to be larger than 0. \n",
    "\n",
    "If $\\mathbb{E}[A]<0$, we have $(1-\\alpha\\mathbb{E}[A])>0$ for all $\\alpha$. Therefore the update of $\\theta_t$ will be amplified which will lead to divergence. )\n",
    "\n",
    "In such a scenario, matrix/value $\\mathbb{E}[A]$ should be positive (definite) in the general case. The assumption that $\\gamma<1$ is also violated which is used to ensure the property of positive defenite. \n",
    "\n",
    "Furthmore, this sychronous update algorithm combine (linear) function approximation, boostrap(TD(0)) and off policy all together, which might cause Deadly Triad issue and lead to problem of instability and divergence. \n",
    "\n",
    "#### [10pts] Question 1.5\n",
    "Describe a way to change the algorithm to obtain convergence of $\\theta$, for any $p$, without changing the sampling or the value function (which should remain as $v_{\\theta}(s) = \\theta \\times \\phi(s)$).  Note that the sampling is not sequential, so for instance you cannot add memory of previous states.  (At most 200 words.)\n",
    "\n",
    "We could change algorithm to use online update instead of offline update which will not lead to deadly triad.\n",
    "\n",
    "Furthermore, We could change the synchronous update algorithm to: do not update the parameter ($\\theta$) if sample to transit from state 1 to itself at state 1 (with $prob=1-p$). Follow this algorithm, $\\mathbb{E}[A]$ in the expectation of each update $\\mathbb{E}[\\theta_{n+1} | \\theta_{n}]$will become: \n",
    "\n",
    "$\\mathbb{E}[A] = p(\\phi_0\\phi_0+\\phi_1\\phi_1-\\phi_1\\phi_0) = 13p > 0$ for all $p$ (with $\\phi_0=1$ and $\\phi_1=4$)\n",
    "\n",
    "which could be written as $\\mathbb{E}[A] = \\mu^{T}\\begin{pmatrix} 1 & b \\\\c & 1 \\end{pmatrix} \\mu$ where $\\mu = \\begin{pmatrix}\\phi_0\\\\\\phi_1\\end{pmatrix}$\n",
    "\n",
    "$P = \\begin{pmatrix} 1 & b \\\\c & 1 \\end{pmatrix}$ with $b+c=-1$\n",
    "\n",
    "Hence $\\mathbb{E}[A]$ must be positive (definite) since P is positive definite and the algorithm is guanranteed to converge.\n"
   ]
  },
  {
   "cell_type": "markdown",
   "metadata": {
    "colab_type": "text",
    "id": "c4v8_c7XqsEo"
   },
   "source": [
    "## Assignment 2 [50pts in total + 10 BONUS pts]"
   ]
  },
  {
   "cell_type": "markdown",
   "metadata": {
    "colab_type": "text",
    "id": "ALrRR76eAd6u"
   },
   "source": [
    "### A grid world"
   ]
  },
  {
   "cell_type": "code",
   "execution_count": 0,
   "metadata": {
    "colab": {
     "autoexec": {
      "startup": false,
      "wait_interval": 0
     }
    },
    "colab_type": "code",
    "id": "YP97bVN3NuG8"
   },
   "outputs": [],
   "source": [
    "class Grid(object):\n",
    "\n",
    "  def __init__(self, tabular=True, vision_size=1, noisy=False):\n",
    "    # -1: wall\n",
    "    # 0: empty, episode continues\n",
    "    # other: number indicates reward, episode will terminate\n",
    "    self._layout = np.array([\n",
    "      [-1, -1, -1, -1, -1, -1, -1, -1, -1, -1, -1, -1, -1, -1, -1, -1, -1],\n",
    "      [-1, -1, -1, -1, -1, -1, -1, -1, -1, -1, -1, -1, -1, -1, -1, -1, -1],\n",
    "      [-1, -1, -1,  0, -1, -1, -1, -1,  0, -1, -1, -1, -1,  0, -1, -1, -1],\n",
    "      [-1, -1,  0,  0,  0,  0,  0,  0,  0,  0,  0,  0,  0,  0,  0, -1, -1],\n",
    "      [-1, -1, -1,  0, -1, -1, -1, -1,  0, -1, -1, -1, -1,  0, -1, -1, -1],\n",
    "      [-1, -1, -1,  0, -1, -1, -1, -1,  0, -1, -1, -1, -1,  0, -1, -1, -1],\n",
    "      [-1, -1, -1,  0, -1, -1, -1, -1,  0, -1, -1, -1, -1,  0, -1, -1, -1],\n",
    "      [-1, -1, -1,  0, -1, -1, -1, -1,  0, -1, -1, -1, -1,  0, -1, -1, -1],\n",
    "      [-1, -1, -1,  0, -1, -1, -1, -1,  0, -1, -1, -1, -1,  0, -1, -1, -1],\n",
    "      [-1, -1, -1,  0, -1, -1, -1, -1,  0, -1, -1, -1, -1,  0, -1, -1, -1],\n",
    "      [-1, -1, -1, -5, -1, -1, -1, -1, -6, -1, -1, -1, -1, 10, -1, -1, -1],\n",
    "      [-1, -1, -1, -1, -1, -1, -1, -1, -1, -1, -1, -1, -1, -1, -1, -1, -1],\n",
    "      [-1, -1, -1, -1, -1, -1, -1, -1, -1, -1, -1, -1, -1, -1, -1, -1, -1],\n",
    "    ])\n",
    "    self._start_state = (3, 2)\n",
    "    self._state = self._start_state\n",
    "    self._number_of_states = np.prod(np.shape(self._layout))\n",
    "    self._noisy = noisy\n",
    "    self._tabular = tabular\n",
    "    self._vision_size = vision_size\n",
    "\n",
    "  @property\n",
    "  def number_of_states(self):\n",
    "      return self._number_of_states\n",
    "    \n",
    "  def plot_grid(self):\n",
    "    plt.figure(figsize=(4, 4))\n",
    "    plt.imshow(self._layout != -1, interpolation=\"nearest\", cmap='pink')\n",
    "    ax = plt.gca()\n",
    "    ax.grid(0)\n",
    "    plt.xticks([])\n",
    "    plt.yticks([])\n",
    "    plt.title(\"The grid\")\n",
    "    plt.text(3, 2, r\"$\\mathbf{S}$\", ha='center', va='center')\n",
    "    goal_y, goal_x = np.where(self._layout==10)\n",
    "    plt.text(goal_x, goal_y, r\"$\\mathbf{G}$\", ha='center', va='center')\n",
    "    goal_y, goal_x = np.where(self._layout==-5)\n",
    "    plt.text(goal_x, goal_y, r\"$\\mathbf{D}$\", ha='center', va='center')\n",
    "    goal_y, goal_x = np.where(self._layout==-6)\n",
    "    plt.text(goal_x, goal_y, r\"$\\mathbf{D}$\", ha='center', va='center')\n",
    "    h, w = self._layout.shape\n",
    "    for y in range(h-1):\n",
    "      plt.plot([-0.5, w-0.5], [y+0.5, y+0.5], '-k', lw=2)\n",
    "    for x in range(w-1):\n",
    "      plt.plot([x+0.5, x+0.5], [-0.5, h-0.5], '-k', lw=2)\n",
    "\n",
    "  def get_obs(self):\n",
    "    y, x = self._state\n",
    "    return self.get_obs_at(x, y)\n",
    "\n",
    "  def get_obs_at(self, x, y):\n",
    "    if self._tabular:\n",
    "      return y*self._layout.shape[1] + x\n",
    "    else:\n",
    "      v = self._vision_size\n",
    "      location = np.clip(-self._layout[y-v:y+v+1,x-v:x+v+1], 0, 1)\n",
    "      return location\n",
    "\n",
    "  def step(self, action):\n",
    "    y, x = self._state\n",
    "    \n",
    "    if action == 0:  # up\n",
    "      new_state = (y - 1, x)\n",
    "    elif action == 1:  # right\n",
    "      new_state = (y, x + 1)\n",
    "    elif action == 2:  # down\n",
    "      new_state = (y + 1, x)\n",
    "    elif action == 3:  # left\n",
    "      new_state = (y, x - 1)\n",
    "    else:\n",
    "      raise ValueError(\"Invalid action: {} is not 0, 1, 2, or 3.\".format(action))\n",
    "\n",
    "    new_y, new_x = new_state\n",
    "    discount = 0.98\n",
    "    if self._layout[new_y, new_x] == -1:  # wall\n",
    "      reward = -1\n",
    "      new_state = (y, x)\n",
    "    elif self._layout[new_y, new_x] != 0: # a goal\n",
    "      reward = self._layout[new_y, new_x]\n",
    "      discount = 0.\n",
    "      new_state = self._start_state\n",
    "    else:\n",
    "      reward = (new_y + new_x) / np.sum(self._layout.shape)\n",
    "    if self._noisy:\n",
    "      width = self._layout.shape[1]\n",
    "      reward += 2*np.random.normal(0, width - new_x + new_y)\n",
    "    \n",
    "    self._state = new_state\n",
    "\n",
    "    return reward, discount, self.get_obs()\n",
    "    "
   ]
  },
  {
   "cell_type": "markdown",
   "metadata": {
    "colab_type": "text",
    "id": "UaGeLcsvixmt"
   },
   "source": [
    "### The grid\n",
    "\n",
    "The cell below shows the `Grid` environment that we will use. Here `S` indicates the start state and `G` indicates the goal.  The agent has four possible actions: up, right, down, and left.  Rewards are: `-1` for bumping into a wall, `+10` for reaching the goal, and `(x + y)/(height + width)` otherwise, which encourages the agent to go right and down.  The episode ends when the agent reaches the goal.  At the end of the left-most two corridors, there are distractor 'goals' (marked `D`) that give a reward of $-5$ and $-6$, and then also terminate the episode.  The discount, on continuing steps, is $\\gamma = 0.98$.  Feel free to reference the implemetation of the `Grid` above, under the header \"a grid world\"."
   ]
  },
  {
   "cell_type": "code",
   "execution_count": 5,
   "metadata": {
    "colab": {
     "autoexec": {
      "startup": false,
      "wait_interval": 0
     },
     "base_uri": "https://localhost:8080/",
     "height": 217
    },
    "colab_type": "code",
    "executionInfo": {
     "elapsed": 723,
     "status": "ok",
     "timestamp": 1524142032939,
     "user": {
      "displayName": "Yucheng Ji",
      "photoUrl": "https://lh3.googleusercontent.com/a/default-user=s128",
      "userId": "102198880449804016310"
     },
     "user_tz": -60
    },
    "id": "SlFuWFzIi5uB",
    "outputId": "8a95515a-dfe2-4d34-c5fb-361fbefc9762"
   },
   "outputs": [
    {
     "data": {
      "image/png": "[encoded data removed]",
      "text/plain": [
       "<matplotlib.figure.Figure at 0x7fedfac2e750>"
      ]
     },
     "metadata": {
      "tags": []
     },
     "output_type": "display_data"
    }
   ],
   "source": [
    "grid = Grid()\n",
    "grid.plot_grid()"
   ]
  },
  {
   "cell_type": "markdown",
   "metadata": {
    "colab_type": "text",
    "id": "MKfA7ifHvO-M"
   },
   "source": [
    "\n",
    "## Implement agents\n",
    "**[10 pts]** In the next code cell, implement an agent that uses **tabular Sarsa** to learn action values.  The agent should act according to an $\\epsilon$-greedy policy with respect to its action values.\n",
    "\n",
    "The agent will be initialized with:\n",
    "```\n",
    "agent = Sarsa(number_of_states=grid._layout.size,\n",
    "              number_of_actions=4,\n",
    "              grid.get_obs())\n",
    "```"
   ]
  },
  {
   "cell_type": "code",
   "execution_count": 0,
   "metadata": {
    "colab": {
     "autoexec": {
      "startup": false,
      "wait_interval": 0
     }
    },
    "colab_type": "code",
    "id": "u_hLSL8anhsv"
   },
   "outputs": [],
   "source": [
    "class Sarsa(object):\n",
    "\n",
    "  def __init__(self, number_of_states, number_of_actions, initial_state, step_size=0.1):\n",
    "    self.state = initial_state\n",
    "    self.action = 0\n",
    "    self.q = np.zeros([number_of_states,number_of_actions])\n",
    "    self.alpha = step_size\n",
    "    \n",
    "  @property\n",
    "  def q_values(self):\n",
    "    # This function should return the action values for all states and actions\n",
    "    # in a numpy arrar of shape (number_of_states, number_of_actions)\n",
    "    return self.q\n",
    "\n",
    "  def step(self, r, g, s):\n",
    "    # This function should return an action\n",
    "    next_a = epsilon_greedy(self.q[s,:], epsilon=0.1)\n",
    "    self.q[self.state,self.action] += self.alpha*(r+g*self.q[s,next_a]-self.q[self.state,self.action])\n",
    "    self.state = s\n",
    "    self.action = next_a\n",
    "    return self.action"
   ]
  },
  {
   "cell_type": "markdown",
   "metadata": {
    "colab_type": "text",
    "id": "oMr_z0RZsHNj"
   },
   "source": [
    "**[20 pts]** Implement an agent that uses **neural Sarsa** to learn action values.  The agent should expect a nxn input which it should flatten into a vector, and then pass through a multi-layer perceptron with a single hidden layer with 100 hidden nodes and ReLU activations.  Each weight layer should also have a bias.  Initialize all weights uniformly randomly in $[-0.05, 0.05]$.\n",
    "\n",
    "```\n",
    "NeuralSarsa(number_of_features=(2*vision_size + 1)**2,\n",
    "            number_of_hidden=100,\n",
    "            number_of_actions=4,\n",
    "            initial_state=grid.get_obs(),\n",
    "            step_size=0.01)\n",
    "```\n",
    "\n",
    "The number `vision_size` will be either 1 or 2 below.  The input vector will be of size $(2v + 1)^2$, which will correspond to a square local view of the grid, centered on the agent, and of size $(2v + 1) \\times (2v + 1)$ (so either 3x3 or 5x5).\n",
    "\n",
    "You are allowed, but not mandated, to use TensorFlow to implement this agent.  (The network is small enough that you can also use numpy, but then you have to implement your own backprop.)  Please document the code clearly, especially on non-trivial operations."
   ]
  },
  {
   "cell_type": "code",
   "execution_count": 0,
   "metadata": {
    "colab": {
     "autoexec": {
      "startup": false,
      "wait_interval": 0
     }
    },
    "colab_type": "code",
    "id": "fppAqbUOn8cO"
   },
   "outputs": [],
   "source": [
    "class NeuralSarsa(object):\n",
    "\n",
    "  def __init__(self, number_of_features, number_of_hidden, number_of_actions, initial_state, step_size=0.01):\n",
    "    self.state = initial_state\n",
    "    self.action = 0\n",
    "    # initialize the weight and bias in the NN\n",
    "    self.W1 = np.random.uniform(-0.05,0.05,[number_of_features,number_of_hidden])\n",
    "    self.b1 = np.zeros(number_of_hidden)\n",
    "    self.W2 = np.random.uniform(-0.05,0.05,[number_of_hidden,number_of_actions])\n",
    "    self.b2 = np.zeros(number_of_actions)    \n",
    "    self.alpha = step_size\n",
    "    self.all_a = np.eye(number_of_actions)\n",
    "    \n",
    "  def forward(self,x):\n",
    "    h = x.dot(self.W1)+self.b1\n",
    "    relu = np.maximum(h,0)\n",
    "    z = relu.dot(self.W2)+self.b2\n",
    "    return h,relu,z\n",
    "  \n",
    "  def gradients(self,x,W,dL_dz):\n",
    "    dL_dW = np.dot(x.reshape(-1,1),dL_dz.reshape(1,-1))\n",
    "    dL_db = np.copy(dL_dz)\n",
    "    dL_dx = np.dot(W,dL_dz)\n",
    "    return dL_dW,dL_db,dL_dx\n",
    "  \n",
    "  def ReLU_gradients(self,dL_dz,x):\n",
    "    return dL_dz*(x>0)\n",
    "  \n",
    "  def q(self, obs):\n",
    "    # This function should give the vector of action values for observation obs\n",
    "    _,_,z = self.forward(obs.reshape(-1,))\n",
    "    return z\n",
    "  \n",
    "  def step(self, r, g, s):\n",
    "    # This function should return an action\n",
    "    Q_s = self.q(s)\n",
    "    next_a = epsilon_greedy(Q_s,epsilon=0.1)\n",
    "#     target[self.action] = r+g*(self.q(s)[next_a])\n",
    "    # Forward:\n",
    "    h,relu,z = self.forward(self.state.reshape(-1,))\n",
    "    # Target:\n",
    "    target = np.copy(z)\n",
    "    target[self.action] = r+g*(Q_s[next_a])\n",
    "    # Backward:\n",
    "    dL_dz = -(target-z)\n",
    "    dW2,db2,drelu = self.gradients(relu,self.W2,dL_dz)\n",
    "    dh = self.ReLU_gradients(drelu,h)\n",
    "    dW1,db1,_ = self.gradients(self.state.reshape(-1,),self.W1,dh)\n",
    "    # update:\n",
    "    self.W1 -= self.alpha * dW1\n",
    "    self.b1 -= self.alpha * db1\n",
    "    self.W2 -= self.alpha * dW2\n",
    "    self.b2 -= self.alpha * db2\n",
    "    \n",
    "    self.state = s\n",
    "    self.action = next_a\n",
    "    \n",
    "    return self.action\n",
    "  "
   ]
  },
  {
   "cell_type": "markdown",
   "metadata": {
    "colab_type": "text",
    "id": "1jZsPzCmDxAh"
   },
   "source": [
    "# Analyse Results - (using Python 2)"
   ]
  },
  {
   "cell_type": "markdown",
   "metadata": {
    "colab_type": "text",
    "id": "xQkk8sMxE0N4"
   },
   "source": [
    "### Run the cells below to train the tabular and neural SARSA agents and to generate plots.\n",
    "\n",
    "This trains the agents the Grid problem with an epsilon of 0.1.\n",
    "\n",
    "The plots below will show action values for each of the actions, as well as a state value defined by $v(s) = \\sum_a \\pi(a|s) q(s, a)$."
   ]
  },
  {
   "cell_type": "code",
   "execution_count": 74,
   "metadata": {
    "cellView": "both",
    "colab": {
     "autoexec": {
      "startup": false,
      "wait_interval": 0
     },
     "base_uri": "https://localhost:8080/",
     "height": 466
    },
    "colab_type": "code",
    "executionInfo": {
     "elapsed": 4760,
     "status": "ok",
     "timestamp": 1523972092385,
     "user": {
      "displayName": "Yucheng Ji",
      "photoUrl": "https://lh3.googleusercontent.com/a/default-user=s128",
      "userId": "102198880449804016310"
     },
     "user_tz": -480
    },
    "id": "GsNBHNZtHCPe",
    "outputId": "e6ead08b-4bf6-4f9b-e60a-c6db29933a66"
   },
   "outputs": [
    {
     "data": {
      "image/png": "[encoded data removed]",
      "text/plain": [
       "<matplotlib.figure.Figure at 0x7f29025811d0>"
      ]
     },
     "metadata": {
      "tags": []
     },
     "output_type": "display_data"
    }
   ],
   "source": [
    "grid = Grid()\n",
    "agent = Sarsa(number_of_states=grid._layout.size,\n",
    "              number_of_actions=4,\n",
    "              initial_state = grid.get_obs())\n",
    "run_experiment(grid, agent, int(1e5))\n",
    "q = agent.q_values.reshape(grid._layout.shape + (4,))\n",
    "plot_action_values(q)"
   ]
  },
  {
   "cell_type": "code",
   "execution_count": 7,
   "metadata": {
    "colab": {
     "autoexec": {
      "startup": false,
      "wait_interval": 0
     },
     "base_uri": "https://localhost:8080/",
     "height": 466
    },
    "colab_type": "code",
    "executionInfo": {
     "elapsed": 11849,
     "status": "ok",
     "timestamp": 1524131111615,
     "user": {
      "displayName": "Yucheng Ji",
      "photoUrl": "https://lh3.googleusercontent.com/a/default-user=s128",
      "userId": "102198880449804016310"
     },
     "user_tz": -60
    },
    "id": "K-JnvcP0mrxF",
    "outputId": "e85bf954-20c0-42b8-ac38-6b4356dfce02"
   },
   "outputs": [
    {
     "data": {
      "image/png": "[encoded data removed]",
      "text/plain": [
       "<matplotlib.figure.Figure at 0x7f44cacf3350>"
      ]
     },
     "metadata": {
      "tags": []
     },
     "output_type": "display_data"
    }
   ],
   "source": [
    "vision_size = 1\n",
    "grid = Grid(tabular=False, vision_size=vision_size)\n",
    "agent = NeuralSarsa(number_of_features=(2*vision_size + 1)**2,\n",
    "                    number_of_hidden=100,\n",
    "                    number_of_actions=4,\n",
    "                    initial_state=grid.get_obs(),\n",
    "                    step_size=0.01)\n",
    "run_experiment(grid, agent, int(1e5))\n",
    "h, w = grid._layout.shape\n",
    "obs = np.array([[grid.get_obs_at(x, y) for x in range(2, w-2)] for y in range(2, h-2)])\n",
    "qs = np.array([[[agent.q(o)[a] for a in range(4)] if o[vision_size,vision_size] == 0 else np.zeros((4,)) for o in ob] for ob in obs])\n",
    "plot_action_values(qs)"
   ]
  },
  {
   "cell_type": "code",
   "execution_count": 77,
   "metadata": {
    "colab": {
     "autoexec": {
      "startup": false,
      "wait_interval": 0
     },
     "base_uri": "https://localhost:8080/",
     "height": 466
    },
    "colab_type": "code",
    "executionInfo": {
     "elapsed": 13046,
     "status": "ok",
     "timestamp": 1523972124684,
     "user": {
      "displayName": "Yucheng Ji",
      "photoUrl": "https://lh3.googleusercontent.com/a/default-user=s128",
      "userId": "102198880449804016310"
     },
     "user_tz": -480
    },
    "id": "tmGFDriIPsGz",
    "outputId": "77e4d866-dd2c-473b-bcaf-e199ca2512fc"
   },
   "outputs": [
    {
     "data": {
      "image/png": "[encoded data removed]",
      "text/plain": [
       "<matplotlib.figure.Figure at 0x7f2902513e10>"
      ]
     },
     "metadata": {
      "tags": []
     },
     "output_type": "display_data"
    }
   ],
   "source": [
    "vision_size = 2\n",
    "grid = Grid(tabular=False, vision_size=vision_size)\n",
    "agent = NeuralSarsa(number_of_features=(2*vision_size + 1)**2,\n",
    "                    number_of_hidden=100,\n",
    "                    number_of_actions=4,\n",
    "                    initial_state=grid.get_obs(),\n",
    "                    step_size=0.01)\n",
    "run_experiment(grid, agent, int(1e5))\n",
    "h, w = grid._layout.shape\n",
    "obs = np.array([[grid.get_obs_at(x, y) for x in range(2, w-2)] for y in range(2, h-2)])\n",
    "qs = np.array([[[agent.q(o)[a] for a in range(4)] if o[vision_size,vision_size] == 0 else np.zeros((4,)) for o in ob] for ob in obs])\n",
    "plot_action_values(qs)"
   ]
  },
  {
   "cell_type": "markdown",
   "metadata": {
    "colab_type": "text",
    "id": "LGptHwE23lmP"
   },
   "source": [
    "## Questions\n",
    "\n",
    "Consider the greedy policy with respect to the estimated values\n",
    "\n",
    "**[5 pts]** Which algorithm performed best?  Why?\n",
    "\n",
    "Tabular Sarsa performs the best as it could find the optimal solution which will reach the goal at bottom right based on the value plot. However, neural sarsa cannot distinguish among the paths approach to goal point and two distractor points according to the action value plot. It could be attributed to that the feature vector of most states along the three corridors of the grid will be nearly the same on basis of the way to get feature vector through clipping (0,1).\n",
    "\n",
    "**[5 pts]** Is there a difference in the solution found by Neural Sarsa with a vision size of 1 (so 3x3 local observations), and a vision size of 2 (so 5x5 local observations)?  Why?\n",
    "\n",
    "There is no difference in the solution found by Neural Sarsa with a vision size of 1 and 2. For the reason, it can be refered back to the implementation of the environment. For both vision size, the feature representation of most states along the three corridors to the goal or distractor \"goal\" are the same through clipping (min=0, max=1). Neural sarsa cannot identified the real position in the grid due to the same feature representation. Only the states near the actual goal or distractors have different feature vector. Therefor, our neural sarsa cannot distinguish between the path to the actual goal and the paths to distractors. And that's why there is no difference in the solutions the algorithm found. (In addition, the value estimates only differ slightly for the horizontal and vertical path according to the plot.)\n",
    "\n",
    "**[10 pts]** How could we improve the performance of the Neural Sarsa agent on this domain (for both vision sizes)?  Identify the main issue, and propose a concrete solution (in max 200 words).\n",
    "\n",
    "The main issue is how to make more updates for the states near the actual goal point. And further learn the difference between the path to Goal and the paths to two distractor points. Instead of update the paramter one by one accroding to the current transition, we could try to use recurrent neural network (LSTM/GRU) as the network in Neural Sarsa. By using RNN, we are building a memory of the history traisions of states, and the action value will be learned not only based on the current feature representation of the state but also the previous history. As a result, the states on three verticle paths will be distinguished with consideration of the previous states in the transition path. And thus the performance of Neural Sarsa is improved. \n",
    "\n",
    "Other solution could be using n step temperal difference instead of TD(0). Through this change, the action value to move in the right direction can be increased, and the policy will encourage the agent to move to the actual goal. \n",
    "\n",
    "**[10 BONUS pts]** Implement your proposed improvement and show that it actually helps performance."
   ]
  }
 ],
 "metadata": {
  "accelerator": "GPU",
  "colab": {
   "collapsed_sections": [],
   "default_view": {},
   "name": "17127155_RL_hw4.ipynb",
   "provenance": [
    {
     "file_id": "1a1ONHRz5bcd2rJyLUD53OUMR8npSp0QZ",
     "timestamp": 1522325021849
    },
    {
     "file_id": "1Ldj742iIDtvjYKKwENvrpTQ3Hm2wrqIg",
     "timestamp": 1521476023411
    },
    {
     "file_id": "1FwMxkDPkt68fxovrMmmWwm6ohYvX2wt1",
     "timestamp": 1517660129183
    },
    {
     "file_id": "1wwTq5nociiMHUb26jxrvZvGN6l11xV5o",
     "timestamp": 1517174839485
    },
    {
     "file_id": "1_gJNoj9wG4mnigscGRAcZx7RHix3HCjG",
     "timestamp": 1515086437469
    },
    {
     "file_id": "1hcBeMVfaSh8g1R2ujtmxOSHoxJ8xYkaW",
     "timestamp": 1511098107887
    }
   ],
   "version": "0.3.2",
   "views": {}
  },
  "kernelspec": {
   "display_name": "Python 3",
   "language": "python",
   "name": "python3"
  },
  "language_info": {
   "codemirror_mode": {
    "name": "ipython",
    "version": 3
   },
   "file_extension": ".py",
   "mimetype": "text/x-python",
   "name": "python",
   "nbconvert_exporter": "python",
   "pygments_lexer": "ipython3",
   "version": "3.7.3"
  }
 },
 "nbformat": 4,
 "nbformat_minor": 1
}
